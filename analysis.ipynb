{
 "cells": [
  {
   "cell_type": "code",
   "execution_count": null,
   "id": "3098c8ad",
   "metadata": {},
   "outputs": [],
   "source": [
    "#Step1: data preprocessing and descriptive statistics"
   ]
  },
  {
   "cell_type": "code",
   "execution_count": 11,
   "id": "f773bd42",
   "metadata": {},
   "outputs": [
    {
     "name": "stdout",
     "output_type": "stream",
     "text": [
      "All sheets: ['Description', 'Llama1', 'Llama0', 'Gpt1', 'Gpt0', 'Deep1', 'Deep0', 'Hum2', 'Hum1', 'Hum_LLM', 'Training_Data']\n",
      "         field_name                                        description\n",
      "0          platform  Enter the platform:  0=SEB / 1=ChatGPT / 2=Dee...\n",
      "1          is_human                           Human agent = 1, LLM = 0\n",
      "2    accuracy_score  0 = incorrect or not answered, 1 = partially c...\n",
      "3  efficiency_score  Likert scale 1-5 (use perception of timeliness...\n",
      "4  politeness_score  Likert scale 1–5 (assess tone, appropriateness...\n",
      "field_name     0\n",
      "description    0\n",
      "dtype: int64\n",
      "<class 'pandas.core.frame.DataFrame'>\n",
      "RangeIndex: 54 entries, 0 to 53\n",
      "Data columns (total 11 columns):\n",
      " #   Column              Non-Null Count  Dtype  \n",
      "---  ------              --------------  -----  \n",
      " 0   question_id         54 non-null     int64  \n",
      " 1   question_text       54 non-null     object \n",
      " 2   accuracy_score      43 non-null     float64\n",
      " 3   efficiency_score    43 non-null     float64\n",
      " 4   politeness_score    43 non-null     float64\n",
      " 5   trust_score         43 non-null     float64\n",
      " 6   satisfaction_score  43 non-null     float64\n",
      " 7   risk_flag           43 non-null     float64\n",
      " 8   token_count         43 non-null     float64\n",
      " 9   is_human            54 non-null     int64  \n",
      " 10  platform            54 non-null     int64  \n",
      "dtypes: float64(7), int64(3), object(1)\n",
      "memory usage: 4.8+ KB\n",
      "None\n",
      "   question_id                                      question_text  \\\n",
      "0            1  Can I apply for a credit card as a master stud...   \n",
      "1            2             How can I become a client of the bank?   \n",
      "2            3  What documents do I need to submit in order to...   \n",
      "3            4  What I need to submit are residence permit, re...   \n",
      "4            5  So I have to contact with specialists about ho...   \n",
      "\n",
      "   accuracy_score  efficiency_score  politeness_score  trust_score  \\\n",
      "0             2.0               2.0               5.0          5.0   \n",
      "1             1.0               2.0               5.0          4.0   \n",
      "2             1.0               2.0               5.0          3.0   \n",
      "3             1.0               2.0               5.0          3.0   \n",
      "4             2.0               2.0               5.0          4.0   \n",
      "\n",
      "   satisfaction_score  risk_flag  token_count  is_human  platform  \n",
      "0                 5.0        0.0        188.0         0         3  \n",
      "1                 4.0        1.0        307.0         0         3  \n",
      "2                 3.0        1.0        291.0         0         3  \n",
      "3                 3.0        1.0        113.0         0         3  \n",
      "4                 4.0        0.0        208.0         0         3  \n"
     ]
    }
   ],
   "source": [
    "import pandas as pd\n",
    "import numpy as np\n",
    "\n",
    "file_path = r\"C:\\Users\\grace\\VisualStudioProject\\Thesis-1\\data.xlsm\"\n",
    "\n",
    "xls = pd.ExcelFile(file_path)\n",
    "sheet_names = xls.sheet_names\n",
    "print(\"All sheets:\", sheet_names)\n",
    "\n",
    "description_df = pd.read_excel(file_path, sheet_name=\"Description\")\n",
    "\n",
    "print(description_df.head())\n",
    "\n",
    "print(description_df.isna().sum())\n",
    "\n",
    "llama0_df = pd.read_excel(file_path, sheet_name=\"Llama0\")\n",
    "hum1_df = pd.read_excel(file_path, sheet_name=\"Hum1\")\n",
    "\n",
    "llm_df = pd.concat([llama0_df], ignore_index=True)  \n",
    "hum_df = hum1_df.copy()\n",
    "\n",
    "llm_df['is_human'] = 0\n",
    "hum_df['is_human'] = 1\n",
    "\n",
    "all_df = pd.concat([llm_df, hum_df], ignore_index=True)\n",
    "\n",
    "print(all_df.info())\n",
    "print(all_df.head())\n"
   ]
  }
 ],
 "metadata": {
  "kernelspec": {
   "display_name": "Python 3",
   "language": "python",
   "name": "python3"
  },
  "language_info": {
   "codemirror_mode": {
    "name": "ipython",
    "version": 3
   },
   "file_extension": ".py",
   "mimetype": "text/x-python",
   "name": "python",
   "nbconvert_exporter": "python",
   "pygments_lexer": "ipython3",
   "version": "3.12.1"
  }
 },
 "nbformat": 4,
 "nbformat_minor": 5
}
